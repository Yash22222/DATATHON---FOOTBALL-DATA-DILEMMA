{
  "nbformat": 4,
  "nbformat_minor": 0,
  "metadata": {
    "colab": {
      "provenance": []
    },
    "kernelspec": {
      "name": "python3",
      "display_name": "Python 3"
    },
    "language_info": {
      "name": "python"
    }
  },
  "cells": [
    {
      "cell_type": "code",
      "execution_count": null,
      "metadata": {
        "id": "nbgEU89KVc4A"
      },
      "outputs": [],
      "source": [
        "!pip install understat"
      ]
    },
    {
      "cell_type": "code",
      "source": [
        "import asyncio\n",
        "import json\n",
        "import pandas as pd\n",
        "\n",
        "import aiohttp\n",
        "from understat import Understat\n",
        "\n",
        "async def fetch_data(session, team_title, season):\n",
        "    understat = Understat(session)\n",
        "    players = await understat.get_league_players(\n",
        "        league_name=\"epl\",\n",
        "        season=season,\n",
        "        team_title=team_title\n",
        "    )\n",
        "    df = pd.DataFrame(players)\n",
        "    return df\n",
        "\n",
        "async def main():\n",
        "    # List of teams and seasons\n",
        "    teams_seasons = [('Manchester City', 2022), ('Manchester City', 2023), ('Liverpool', 2022), ('Liverpool', 2023),\n",
        "                     ('Manchester United', 2022), ('Manchester United', 2023), ('Arsenal', 2022), ('Arsenal', 2023),\n",
        "                     ('Tottenham', 2022), ('Tottenham', 2023), ('Aston Villa', 2022), ('Aston Villa', 2023),\n",
        "                     ('Everton', 2022), ('Everton', 2023)]\n",
        "\n",
        "    async with aiohttp.ClientSession() as session:\n",
        "        tasks = []\n",
        "        for team, season in teams_seasons:\n",
        "            tasks.append(fetch_data(session, team, season))\n",
        "\n",
        "        # Gather all tasks\n",
        "        dfs = await asyncio.gather(*tasks)\n",
        "\n",
        "        # Merge DataFrames\n",
        "        merged_df = pd.concat(dfs, ignore_index=True)\n",
        "\n",
        "        # Save merged DataFrame to CSV\n",
        "        merged_df.to_csv('understat_data_merged.csv', index=False)\n",
        "\n",
        "# Run the asyncio event loop\n",
        "await main()\n"
      ],
      "metadata": {
        "id": "lznc1HikfDmx"
      },
      "execution_count": null,
      "outputs": []
    }
  ]
}